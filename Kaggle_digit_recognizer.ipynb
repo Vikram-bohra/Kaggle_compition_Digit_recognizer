{
 "cells": [
  {
   "cell_type": "code",
   "execution_count": 1,
   "metadata": {},
   "outputs": [],
   "source": [
    "import pandas as pd\n",
    "import numpy as np"
   ]
  },
  {
   "cell_type": "code",
   "execution_count": 2,
   "metadata": {},
   "outputs": [],
   "source": [
    "train_data = pd.read_csv('train.csv').values"
   ]
  },
  {
   "cell_type": "code",
   "execution_count": 3,
   "metadata": {},
   "outputs": [
    {
     "data": {
      "text/plain": [
       "array([[1, 0, 0, ..., 0, 0, 0],\n",
       "       [0, 0, 0, ..., 0, 0, 0],\n",
       "       [1, 0, 0, ..., 0, 0, 0],\n",
       "       ...,\n",
       "       [7, 0, 0, ..., 0, 0, 0],\n",
       "       [6, 0, 0, ..., 0, 0, 0],\n",
       "       [9, 0, 0, ..., 0, 0, 0]])"
      ]
     },
     "execution_count": 3,
     "metadata": {},
     "output_type": "execute_result"
    }
   ],
   "source": [
    "train_data"
   ]
  },
  {
   "cell_type": "code",
   "execution_count": 4,
   "metadata": {},
   "outputs": [
    {
     "data": {
      "text/plain": [
       "784"
      ]
     },
     "execution_count": 4,
     "metadata": {},
     "output_type": "execute_result"
    }
   ],
   "source": [
    "len(train_data[0,1:])"
   ]
  },
  {
   "cell_type": "code",
   "execution_count": 5,
   "metadata": {},
   "outputs": [],
   "source": [
    "import matplotlib.pyplot as plt"
   ]
  },
  {
   "cell_type": "code",
   "execution_count": 6,
   "metadata": {},
   "outputs": [
    {
     "data": {
      "image/png": "[encoded data removed]",
      "text/plain": [
       "<Figure size 432x288 with 1 Axes>"
      ]
     },
     "metadata": {
      "needs_background": "light"
     },
     "output_type": "display_data"
    }
   ],
   "source": [
    "plt.imshow(train_data[-1,1:].reshape(28,28), cmap='gray')\n",
    "plt.show()"
   ]
  },
  {
   "cell_type": "code",
   "execution_count": 7,
   "metadata": {},
   "outputs": [],
   "source": [
    "X = train_data[:,1:]\n",
    "Y = train_data[:,0]"
   ]
  },
  {
   "cell_type": "code",
   "execution_count": 8,
   "metadata": {},
   "outputs": [],
   "source": [
    "\n",
    "# Splitting the dataset into the Training set and Test set\n",
    "from sklearn.model_selection import train_test_split\n",
    "X_train, X_test, y_train, y_test = train_test_split(X, Y, test_size = 0.25, random_state = 0)\n",
    "\n",
    "# Feature Scaling\n",
    "from sklearn.preprocessing import StandardScaler\n",
    "sc = StandardScaler()\n",
    "X_train = sc.fit_transform(X_train)\n",
    "X_test = sc.transform(X_test)\n"
   ]
  },
  {
   "cell_type": "code",
   "execution_count": 9,
   "metadata": {},
   "outputs": [
    {
     "data": {
      "text/plain": [
       "SVC(C=1.0, cache_size=200, class_weight=None, coef0=0.0,\n",
       "    decision_function_shape='ovr', degree=3, gamma='auto_deprecated',\n",
       "    kernel='poly', max_iter=-1, probability=False, random_state=0,\n",
       "    shrinking=True, tol=0.001, verbose=False)"
      ]
     },
     "execution_count": 9,
     "metadata": {},
     "output_type": "execute_result"
    }
   ],
   "source": [
    "\n",
    "# Fitting Kernel SVM to the Training set\n",
    "from sklearn.svm import SVC\n",
    "classifier = SVC(kernel = 'poly', random_state = 0)\n",
    "classifier.fit(X_train, y_train)"
   ]
  },
  {
   "cell_type": "code",
   "execution_count": 10,
   "metadata": {},
   "outputs": [],
   "source": [
    "\n",
    "# Predicting the Test set results\n",
    "y_pred = classifier.predict(X_test)\n"
   ]
  },
  {
   "cell_type": "code",
   "execution_count": 11,
   "metadata": {},
   "outputs": [],
   "source": [
    "\n",
    "# Making the Confusion Matrix\n",
    "from sklearn.metrics import confusion_matrix,accuracy_score,classification_report\n",
    "cm = confusion_matrix(y_test, y_pred)\n",
    "acc = accuracy_score(y_test,y_pred)"
   ]
  },
  {
   "cell_type": "code",
   "execution_count": 12,
   "metadata": {},
   "outputs": [
    {
     "data": {
      "text/plain": [
       "(0.9393333333333334,\n",
       " array([[ 956,    0,    2,    1,    5,    2,   11,    0,   38,    0],\n",
       "        [   0, 1166,    8,    0,    3,    0,    3,    0,   10,    0],\n",
       "        [   3,    2,  973,    9,   14,    0,    2,    4,   68,    2],\n",
       "        [   1,    3,    7,  983,    1,   15,    0,    6,   46,    8],\n",
       "        [   1,    2,    5,    0,  990,    2,    1,    1,    4,   28],\n",
       "        [   0,    0,    1,    7,    7,  859,    5,    0,   38,   13],\n",
       "        [   4,    0,    1,    0,    9,    8, 1003,    0,   19,    0],\n",
       "        [   2,    5,    7,    0,   27,    1,    0, 1025,   19,   43],\n",
       "        [   1,    3,    2,   10,    2,   12,    1,    1,  958,    5],\n",
       "        [   3,    2,    3,    6,   22,    3,    0,   12,   15,  950]]))"
      ]
     },
     "execution_count": 12,
     "metadata": {},
     "output_type": "execute_result"
    }
   ],
   "source": [
    "acc,cm"
   ]
  },
  {
   "cell_type": "code",
   "execution_count": 12,
   "metadata": {},
   "outputs": [
    {
     "data": {
      "text/plain": [
       "(0.9393333333333334,\n",
       " array([[ 956,    0,    2,    1,    5,    2,   11,    0,   38,    0],\n",
       "        [   0, 1166,    8,    0,    3,    0,    3,    0,   10,    0],\n",
       "        [   3,    2,  973,    9,   14,    0,    2,    4,   68,    2],\n",
       "        [   1,    3,    7,  983,    1,   15,    0,    6,   46,    8],\n",
       "        [   1,    2,    5,    0,  990,    2,    1,    1,    4,   28],\n",
       "        [   0,    0,    1,    7,    7,  859,    5,    0,   38,   13],\n",
       "        [   4,    0,    1,    0,    9,    8, 1003,    0,   19,    0],\n",
       "        [   2,    5,    7,    0,   27,    1,    0, 1025,   19,   43],\n",
       "        [   1,    3,    2,   10,    2,   12,    1,    1,  958,    5],\n",
       "        [   3,    2,    3,    6,   22,    3,    0,   12,   15,  950]]))"
      ]
     },
     "execution_count": 12,
     "metadata": {},
     "output_type": "execute_result"
    }
   ],
   "source": [
    "acc,cm"
   ]
  },
  {
   "cell_type": "code",
   "execution_count": 19,
   "metadata": {},
   "outputs": [
    {
     "name": "stdout",
     "output_type": "stream",
     "text": [
      "              precision    recall  f1-score   support\n",
      "\n",
      "           0       0.98      0.98      0.98      1015\n",
      "           1       0.98      0.98      0.98      1190\n",
      "           2       0.90      0.97      0.94      1077\n",
      "           3       0.96      0.94      0.95      1070\n",
      "           4       0.97      0.96      0.96      1034\n",
      "           5       0.96      0.96      0.96       930\n",
      "           6       0.96      0.97      0.97      1044\n",
      "           7       0.96      0.95      0.95      1129\n",
      "           8       0.96      0.94      0.95       995\n",
      "           9       0.96      0.94      0.95      1016\n",
      "\n",
      "    accuracy                           0.96     10500\n",
      "   macro avg       0.96      0.96      0.96     10500\n",
      "weighted avg       0.96      0.96      0.96     10500\n",
      "\n"
     ]
    }
   ],
   "source": [
    "print(classification_report(y_test,y_pred))"
   ]
  },
  {
   "cell_type": "code",
   "execution_count": 52,
   "metadata": {},
   "outputs": [
    {
     "name": "stdout",
     "output_type": "stream",
     "text": [
      "              precision    recall  f1-score   support\n",
      "\n",
      "           0       0.94      0.96      0.95      1015\n",
      "           1       0.95      0.98      0.96      1190\n",
      "           2       0.90      0.91      0.91      1077\n",
      "           3       0.88      0.90      0.89      1070\n",
      "           4       0.92      0.94      0.93      1034\n",
      "           5       0.90      0.88      0.89       930\n",
      "           6       0.95      0.95      0.95      1044\n",
      "           7       0.95      0.93      0.94      1129\n",
      "           8       0.92      0.86      0.89       995\n",
      "           9       0.90      0.88      0.89      1016\n",
      "\n",
      "    accuracy                           0.92     10500\n",
      "   macro avg       0.92      0.92      0.92     10500\n",
      "weighted avg       0.92      0.92      0.92     10500\n",
      "\n"
     ]
    }
   ],
   "source": [
    "print(classification_report(y_test,y_pred))"
   ]
  },
  {
   "cell_type": "code",
   "execution_count": null,
   "metadata": {},
   "outputs": [],
   "source": []
  }
 ],
 "metadata": {
  "kernelspec": {
   "display_name": "Python 3",
   "language": "python",
   "name": "python3"
  },
  "language_info": {
   "codemirror_mode": {
    "name": "ipython",
    "version": 3
   },
   "file_extension": ".py",
   "mimetype": "text/x-python",
   "name": "python",
   "nbconvert_exporter": "python",
   "pygments_lexer": "ipython3",
   "version": "3.7.4"
  }
 },
 "nbformat": 4,
 "nbformat_minor": 4
}
